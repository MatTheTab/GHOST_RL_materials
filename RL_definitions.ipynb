{
 "cells": [
  {
   "attachments": {
    "image.png": {
     "image/png": "[encoded data removed]"
    }
   },
   "cell_type": "markdown",
   "metadata": {},
   "source": [
    "# Reinforcement learning basics\n",
    "**Reinforcement learning (RL)** is a branch of machine learning where an **agent** learns to make decisions by interacting with an **environment**. It's inspired by how humans and animals learn from trial and error, by taking actions and receiving feedback. In this notebook, we'll introduce the key concepts of reinforcement learning, and apply them to a simple problem.\n",
    "\n",
    "## Agent-Environment interaction\n",
    "We try to frame most RL problems in this format. At each timestep **t** the **agent** receives observation $ O $ which is some representation of environment's **state** $ S_t \\in \\mathit{S}$ and on that basis it selects an **action** $ A_t \\in \\mathit{A(s)} $. One time step later, in part as a consequence of its action, the agent receives a numerical reward, $ R_{t+1} \\in \\mathit{R} \\sub \\mathbb{R} $ , and finds itself in a new state $ S_{t+1} $, together thereby give rise to a sequence or **trajectory** (or *history*) that begins like this: $ S_0, A_0, R_1, S_1, A_1, R_2, S_2, A_2, R_3, \\ldots $\n",
    "\n",
    "![image.png](attachment:image.png)\n",
    "\n",
    "In a finite problem the sets $\\mathit{S}$, $\\mathit{A}$ and $\\mathit{R}$ have finite number of elements.\n",
    "\n",
    "### Example of finite environment\n",
    "One of the simplest environments available in **Gymnasium** framework is **[Frozen Lake (click to read documentation)](https://gymnasium.farama.org/environments/toy_text/frozen_lake/)**.\n"
   ]
  },
  {
   "cell_type": "code",
   "execution_count": null,
   "metadata": {},
   "outputs": [],
   "source": [
    "import gymnasium as gym\n",
    "import matplotlib.pyplot as plt\n",
    "\n",
    "plt.rcParams[\"figure.figsize\"] = (5, 5)\n",
    "\n",
    "def render(env: gym.Env):\n",
    "    \"\"\"Helper function to render the game frame.\"\"\"\n",
    "    frame = env.render()\n",
    "    assert frame is not None\n",
    "    plt.imshow(frame)\n",
    "    plt.axis('off')\n",
    "    plt.show()\n",
    "\n",
    "from matplotlib.table import Table\n",
    "\n",
    "def visualize_table(table_data, title=None):\n",
    "    _, ax = plt.subplots()\n",
    "    ax.set_axis_off()\n",
    "    tb = Table(ax=ax, bbox=[0, 0, 1, 1])\n",
    "\n",
    "    nrows, ncols = 4, 4\n",
    "    width, height = 1.0 / ncols, 1.0 / nrows\n",
    "\n",
    "    for i in range(len(table_data)):\n",
    "        x = i % 4\n",
    "        y = i // 4\n",
    "        tb.add_cell(y, x, width, height, text=table_data[i], loc=\"center\", facecolor=\"white\")\n",
    "\n",
    "    ax.add_table(tb)\n",
    "    if title:\n",
    "        ax.set_title(title)"
   ]
  },
  {
   "cell_type": "markdown",
   "metadata": {},
   "source": [
    "Let's initialize the Frozen Lake environment. We will load 4x4 grid and visualize it. The goal of this game is to reach the present and not fall into the frozen lake."
   ]
  },
  {
   "cell_type": "code",
   "execution_count": null,
   "metadata": {},
   "outputs": [],
   "source": [
    "env = gym.make(\n",
    "    'FrozenLake-v1',\n",
    "    map_name=\"4x4\", \n",
    "    is_slippery=False,\n",
    "    render_mode='rgb_array'\n",
    ")\n",
    "\n",
    "print(\"S: \", env.observation_space)\n",
    "print(\"A: \", env.action_space)\n",
    "print(\"R: \", env.reward_range)\n",
    "\n",
    "O, info = env.reset()\n",
    "\n",
    "print(\"Observation: \", O)\n",
    "render(env)\n",
    "visualize_table(range(16), \"State Space\")"
   ]
  },
  {
   "cell_type": "markdown",
   "metadata": {},
   "source": [
    "As you can see this is a **finite** environment\n",
    "- State set ($S$) has 16 members (and 5 of them are **terminal** states)\n",
    "- Action set ($A$) has 4 members (left, down, right, up)\n",
    "- Reward set has ($R$) 2 members (1 for reaching the present and 0 for every other move)\n",
    "\n",
    "In this case the environment is a **fully observable** one (observation is equivalent to the state), *however keep in mind that agent doesn't see the board as we do (from the bird view) but only observes on which tile it currently is, if he received reward and if it is a terminal state. The rendering of the board is just for visualization purposes.*\n",
    "\n",
    "Let's see what happens when we take actions in the environment."
   ]
  },
  {
   "cell_type": "code",
   "execution_count": null,
   "metadata": {},
   "outputs": [],
   "source": [
    "LEFT = 0\n",
    "DOWN = 1\n",
    "RIGHT = 2\n",
    "UP = 3\n",
    "\n",
    "S1, R1, T1, _, I1 = env.step(RIGHT)\n",
    "print(\"Observation/State S1: \", S1)\n",
    "print(\"Reward R1: \", R1)\n",
    "print(\"Is terminal T1: \", T1)\n",
    "\n",
    "render(env)"
   ]
  },
  {
   "cell_type": "markdown",
   "metadata": {},
   "source": [
    "As you can see that after taking action $ A_0 = right $ we received the reward $ R_1 = 0 $ and the observation $S_1 = 1$. We also received the information that we are not in a terminal state yet and that this transition had probability of 1 (we are in a **deterministic** environment)."
   ]
  },
  {
   "cell_type": "code",
   "execution_count": null,
   "metadata": {},
   "outputs": [],
   "source": [
    "S2, R2, T2, _, I2 = env.step(RIGHT)\n",
    "print(\"Observation/State S2: \", S2)\n",
    "print(\"Reward R2: \", R2)\n",
    "print(\"Is terminal T2: \", T2)\n",
    "render(env)"
   ]
  },
  {
   "cell_type": "markdown",
   "metadata": {},
   "source": [
    "This time after taking action $ A_1 = down $ we received the reward $ R_2 = 0 $ and the observation $S_2 = 5$ but this time we found ourselves in a terminal state as we have fallen into the lake. \n",
    "\n",
    "This is the end of the **episode** with **trajectory** of $ S_0, A_0, R_1, S_1, A_1, R_2, S_2 = 0, right,0,1,down,0,5 $. \\\n",
    "The episode length is usually denoted as **T** and in this case $ T = 2 $ and $S_T = S_2$ is a terminal state. \n",
    "\n",
    "Consider another **trajectory**"
   ]
  },
  {
   "cell_type": "code",
   "execution_count": null,
   "metadata": {},
   "outputs": [],
   "source": [
    "env.reset()\n",
    "\n",
    "actions = [DOWN, DOWN, RIGHT, RIGHT, DOWN, RIGHT]\n",
    "\n",
    "for i, A in enumerate(actions):\n",
    "    O, R, T, _, _ = env.step(A)\n",
    "    print(f\"A{i}: \", A)\n",
    "    print(f\"S{i+1}: \", O)\n",
    "    print(f\"R{i+1}: \", R)\n",
    "    print(\"Is terminal: \", T)\n",
    "    render(env)"
   ]
  },
  {
   "cell_type": "markdown",
   "metadata": {},
   "source": [
    "Now we can observe that the agent reaches the goal in 6 steps ($T=6$ the terminal state is $S_6$), all the immediate rewards were equal to 0 except the last one $R_6 = 1$"
   ]
  },
  {
   "cell_type": "markdown",
   "metadata": {},
   "source": [
    "## Markov Decision Process (MDP)\n",
    "\n",
    "Mathematical formalization of such decision making process is called **Markov Decision Process (MDP)**. The environment is said to have the **Markov property** if the future state depends only on the current state and action, and not on the past **trajectory**. This is a very strong assumption and in practice it's often violated. It helps to simplify the problem as if we learn optimal policies for some states we can hope that it will not change in the future.\n",
    "\n",
    "MDPs can be entirelly defined by the following function: \\\n",
    "$p(s', r | s, a) = Pr(S_{t+1} = s', R_{t+1} = r | S_t = s, A_t = a)$ \\\n",
    "In other words - *the probability of transitioning to state $s'$ and receiving reward $r$ given that we are in state $s$ and took action $a$ should be defined for all state-action pairs.*\n",
    "\n",
    "The Frozen Lake environment was an example of a **deterministic** MDP, all probabilities were equal to 1 or 0. for example $p(1,0|0,right) = 1$ and $p(1,1|0,right) = 0$. However it is possible to enable **stochastic** transitions by setting the `is_slippery` parameter to `True` in the environment initialization. (Now there is only 1/3 chance that the agent will move in the direction it wanted and 2/3 that it will move into one of orthogonal directions)"
   ]
  },
  {
   "cell_type": "code",
   "execution_count": null,
   "metadata": {},
   "outputs": [],
   "source": [
    "env = gym.make(\n",
    "    'FrozenLake-v1',\n",
    "    map_name=\"4x4\", \n",
    "    is_slippery=True,\n",
    "    render_mode='rgb_array'\n",
    ")\n",
    "\n",
    "O, info = env.reset(seed=1)\n",
    "\n",
    "render(env)"
   ]
  },
  {
   "cell_type": "code",
   "execution_count": null,
   "metadata": {},
   "outputs": [],
   "source": [
    "def debug_step(env: gym.Env, A: int, t: int):\n",
    "    O, R, T, _, I = env.step(A)\n",
    "    print(f\"A{t}: {A}, S{t+1}: {O}, R{t+1}: {R}, Terminal: {T}\")\n",
    "    print(\"Info: \", I)\n",
    "    render(env)\n",
    "\n",
    "debug_step(env, DOWN, t=0)"
   ]
  },
  {
   "cell_type": "markdown",
   "metadata": {},
   "source": [
    "As you can see we performed action $down$ but ended up in the state 1 as if we moved $right$ instead. \n",
    "$1/3$ lead to the desired state and $2/3$ lead to the orthogonal states, but we never slip into the opposite direction, this opens doors for interesting strategies, for example if we want to be sure to avoid the lake we can choose action $up$ to be sure we won't slip into it."
   ]
  },
  {
   "cell_type": "code",
   "execution_count": null,
   "metadata": {},
   "outputs": [],
   "source": [
    "debug_step(env, UP, t=1)"
   ]
  },
  {
   "cell_type": "markdown",
   "metadata": {},
   "source": [
    "staying in $S=1$, going back to $S=0$ or going to state $S=2$ all had the same probability (1/3) after choosing action $up$ this time we got lucky and moved closer to the goal. Have we chosen action $right$ we would have 1/3 chance of slipping down to $S=5$ and loosing"
   ]
  },
  {
   "cell_type": "markdown",
   "metadata": {},
   "source": [
    "## Goals and Reward hypothesis\n",
    "When training RL agent we want it to acomplish some **goal**. The goal is usually some high level objective that is not directly encoded in the environment. For example in the Frozen Lake the goal/purpose is *to reach the goal without falling into the lake*.\n",
    "\n",
    "The **reward hypothesis** states that: \\\n",
    "*All of what we mean by goals and purposes can be well thought of as the maximization of the expected value of the cumulative sum of a received rewards*\n",
    "\n",
    "### Return\n",
    "The cumulative sum of rewards to be received after time step t is called **return** (denoted as: $G_t = R_{t+1} + R_{t+2} + \\ldots + R_T$). To achieve the high level goal we need to maximize the expected return. This way agent might perform actions that in the short term are not beneficial but in the long term lead to the highest return.\n",
    "\n",
    "*Notice that if you define the return of terminal state to 0 ($G_T = 0$) you can formulate the return recursively as: $G_t = R_{t+1} + G_{t+1}$*\n",
    "\n",
    "#### Discounted return\n",
    "In practice we often use **discounted return** where we multiply each reward by a factor $\\gamma^t$ where $\\gamma \\in [0,1]$ is called the discount factor. \n",
    "$G_t = R_{t+1} + \\gamma R_{t+2} + \\gamma^2 R_{t+3} + \\ldots + \\gamma^{T-t-1} R_T$\n",
    "This makes sense as we are less likely to predict rewards long in the future than the immediate ones. \\\n",
    "If $\\gamma = 0$ the agent will only care about the immediate reward ($G_t = R_{t+1}$) \\\n",
    "If $\\gamma = 1$ the agent will care about all future rewards equally (*the same as undiscounted case mentioned previously*).\n",
    "\n",
    "The discounted return can be formulated recursively as: $G_t = R_{t+1} + \\gamma G_{t+1}$"
   ]
  },
  {
   "cell_type": "markdown",
   "metadata": {},
   "source": [
    "### Exercise from the book\n",
    "Suppose = 0.5 and the following sequence of rewards is received $R_1 = 1$,\n",
    "$R_2 = 2$, $R_3 = 6$, $R_4 = 3$, and $R_5 = 2$, with $T = 5$. What are $G_0, G_1 , . . ., G_5$?\n",
    "\n",
    "*Hint: Work backwards*"
   ]
  },
  {
   "cell_type": "markdown",
   "metadata": {},
   "source": [
    "## Calculating returns"
   ]
  },
  {
   "cell_type": "code",
   "execution_count": null,
   "metadata": {},
   "outputs": [],
   "source": [
    "from matplotlib.animation import FuncAnimation\n",
    "from IPython import display\n",
    "from typing import List, Tuple\n",
    "\n",
    "Trajectory = List[Tuple[int, float, int]]\n",
    "\n",
    "\n",
    "def run_episode(env: gym.Env, actions: list) -> Trajectory:\n",
    "    \"\"\"Run episode by applying list of actions and return list of (state, reward) pairs.\"\"\"\n",
    "    S, I = env.reset()\n",
    "    R = 0.0\n",
    "\n",
    "    frames = []\n",
    "    frames.append(env.render())\n",
    "\n",
    "    trajectory = []\n",
    "    for i, A in enumerate(actions):\n",
    "        trajectory.append((R, S, A))\n",
    "        S, R, T, _, I = env.step(A)\n",
    "        frames.append(env.render())\n",
    "    trajectory.append((R, S, None))\n",
    "\n",
    "    # Animation\n",
    "    fig = plt.figure() \n",
    "\n",
    "    def animate(i):\n",
    "        plt.imshow(frames[i])\n",
    "        plt.axis('off')\n",
    "\n",
    "    ani = FuncAnimation(fig, animate, frames=len(frames))\n",
    "    video = ani.to_html5_video()\n",
    "    html = display.HTML(video)\n",
    "    display.display(html)\n",
    "    plt.close()\n",
    "\n",
    "    return trajectory\n",
    "\n",
    "def discounted_return(t: Trajectory, gamma: float):\n",
    "    \"\"\"Calculate the return of a trajectory.\"\"\"\n",
    "    return sum([R * (gamma ** i) for i, (R, _, _) in enumerate(t)])"
   ]
  },
  {
   "cell_type": "code",
   "execution_count": null,
   "metadata": {},
   "outputs": [],
   "source": [
    "env = gym.make(\n",
    "    'FrozenLake-v1',\n",
    "    map_name=\"4x4\", \n",
    "    is_slippery=False,\n",
    "    render_mode='rgb_array'\n",
    ")\n",
    "\n",
    "trajectory = run_episode(env, [RIGHT, RIGHT, DOWN, DOWN, LEFT, DOWN, RIGHT, RIGHT])\n",
    "print(trajectory)"
   ]
  },
  {
   "cell_type": "markdown",
   "metadata": {},
   "source": [
    "Let's calculate how return would look like on each state of this episode. We will use multiple discount factors ($\\gamma$) to see how it affects the return. \n",
    "Notice that:\n",
    "- terminal state has always return of 0 as no more rewards can be received after it.\n",
    "- we can only evaluate the return of the states that were visited in the episode."
   ]
  },
  {
   "cell_type": "code",
   "execution_count": null,
   "metadata": {},
   "outputs": [],
   "source": [
    "def evaluate_trajectory(T: Trajectory, gammas=[0, 0.5, 0.9, 1]):\n",
    "    for gamma in gammas:\n",
    "        G_table = [None for _ in range(16)]\n",
    "        G = 0 # Terminal\n",
    "        for R, S, _ in reversed(T):\n",
    "            G_table[S] = G\n",
    "            G = R + gamma * G\n",
    "\n",
    "        G_table = [f\"{G:.2f}\" if G is not None else \"\" for G in G_table]\n",
    "        visualize_table(G_table, f\"Discounted Return (gamma={gamma})\")\n",
    "\n",
    "evaluate_trajectory(trajectory)"
   ]
  },
  {
   "cell_type": "markdown",
   "metadata": {},
   "source": [
    "Let's consider a more optimal episode, where the agent reaches the goal in a shorter amount of steps, notice that on average returns will be higher than in the longer episode, which is another useful feature of **discounting**"
   ]
  },
  {
   "cell_type": "code",
   "execution_count": null,
   "metadata": {},
   "outputs": [],
   "source": [
    "trajectory = run_episode(env, [DOWN, DOWN, RIGHT, RIGHT, DOWN, RIGHT])\n",
    "evaluate_trajectory(trajectory, gammas=[0.5, 0.9])"
   ]
  },
  {
   "cell_type": "markdown",
   "metadata": {},
   "source": [
    "Let's consider episode that ends in agent falling into the lake, notice that we never get any reward in such episode so all returns are equal to 0!"
   ]
  },
  {
   "cell_type": "code",
   "execution_count": null,
   "metadata": {},
   "outputs": [],
   "source": [
    "trajectory = run_episode(env, [DOWN, DOWN, RIGHT, UP])\n",
    "evaluate_trajectory(trajectory)"
   ]
  },
  {
   "cell_type": "markdown",
   "metadata": {},
   "source": [
    "## TODO:\n",
    "\n",
    "- Policy\n",
    "- Value\n",
    "- Bellman equation\n",
    "- Generalized policy iteration\n",
    "- Monte carlo vs Temporal difference"
   ]
  },
  {
   "cell_type": "markdown",
   "metadata": {},
   "source": [
    "Bibliography:\n",
    "- Reinforcement Learning An Introduction (2nd edition) - Richard Sutton and Andrew Barto\n",
    "- Gymnasium framework (https://gymnasium.farama.org/)"
   ]
  }
 ],
 "metadata": {
  "kernelspec": {
   "display_name": "venv",
   "language": "python",
   "name": "python3"
  },
  "language_info": {
   "codemirror_mode": {
    "name": "ipython",
    "version": 3
   },
   "file_extension": ".py",
   "mimetype": "text/x-python",
   "name": "python",
   "nbconvert_exporter": "python",
   "pygments_lexer": "ipython3",
   "version": "3.11.5"
  }
 },
 "nbformat": 4,
 "nbformat_minor": 2
}
