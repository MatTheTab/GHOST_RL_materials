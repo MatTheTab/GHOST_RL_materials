{
 "cells": [
  {
   "attachments": {
    "image.png": {
     "image/png": "[encoded data removed]"
    }
   },
   "cell_type": "markdown",
   "metadata": {},
   "source": [
    "# Reinforcement learning basics\n",
    "**Reinforcement learning (RL)** is a branch of machine learning where an **agent** learns to make decisions by interacting with an **environment**. It's inspired by how humans and animals learn from trial and error, by taking actions and receiving feedback. In this notebook, we'll introduce the key concepts of reinforcement learning, and apply them to a simple problem.\n",
    "\n",
    "## Agent-Environment interaction\n",
    "We try to frame most RL problems in this format. At each timestep **t** the **agent** receives observation $ O $ which is some representation of environment's **state** $ S_t \\in \\mathit{S}$ and on that basis it selects an **action** $ A_t \\in \\mathit{A(s)} $. One time step later, in part as a consequence of its action, the agent receives a numerical reward, $ R_{t+1} \\in \\mathit{R} \\sub \\mathbb{R} $ , and finds itself in a new state $ S_{t+1} $, together thereby give rise to a sequence or **trajectory** (or *history*) that begins like this: $ S_0, A_0, R_1, S_1, A_1, R_2, S_2, A_2, R_3, \\ldots $\n",
    "\n",
    "![image.png](attachment:image.png)\n",
    "\n",
    "In a finite problem the sets $\\mathit{S}$, $\\mathit{A}$ and $\\mathit{R}$ have finite number of elements.\n",
    "\n",
    "### Example of finite environment\n",
    "One of the simplest environments available in **Gymnasium** framework is **[Frozen Lake (click to read documentation)](https://gymnasium.farama.org/environments/toy_text/frozen_lake/)**.\n"
   ]
  },
  {
   "cell_type": "code",
   "execution_count": null,
   "metadata": {},
   "outputs": [],
   "source": [
    "import gymnasium as gym\n",
    "import matplotlib.pyplot as plt\n",
    "import numpy as np\n",
    "\n",
    "plt.rcParams[\"figure.figsize\"] = (5, 5)\n",
    "\n",
    "def render(env: gym.Env, ax=None):\n",
    "    \"\"\"Helper function to render the game frame.\"\"\"\n",
    "    frame = env.render()\n",
    "    assert frame is not None\n",
    "    if ax is not None:\n",
    "        ax.imshow(frame)\n",
    "        ax.axis('off')\n",
    "        return\n",
    "    plt.imshow(frame)\n",
    "    plt.axis('off')\n",
    "    plt.show()\n",
    "\n",
    "from matplotlib.table import Table\n",
    "\n",
    "def visualize_table(table_data, title=None, colors=None, ncols=4, nrows=4, ax=None):\n",
    "    if ax is None:\n",
    "        _, ax = plt.subplots()\n",
    "    ax.set_axis_off()\n",
    "    tb = Table(ax=ax, bbox=[0, 0, 1, 1])\n",
    "\n",
    "    width, height = 1.0 / ncols, 1.0 / nrows\n",
    "\n",
    "    for i in range(len(table_data)):\n",
    "        x = i % ncols\n",
    "        y = i // nrows\n",
    "        facecolor = colors[i] if colors else \"white\"\n",
    "        tb.add_cell(y, x, width, height, text=table_data[i], loc=\"center\", facecolor=facecolor)\n",
    "\n",
    "    ax.add_table(tb)\n",
    "    if title:\n",
    "        ax.set_title(title)"
   ]
  },
  {
   "cell_type": "markdown",
   "metadata": {},
   "source": [
    "Let's initialize the Frozen Lake environment. We will load 4x4 grid and visualize it. The goal of this game is to reach the present and not fall into the frozen lake."
   ]
  },
  {
   "cell_type": "code",
   "execution_count": null,
   "metadata": {},
   "outputs": [],
   "source": [
    "env = gym.make(\n",
    "    'FrozenLake-v1',\n",
    "    map_name=\"4x4\", \n",
    "    is_slippery=False,\n",
    "    render_mode='rgb_array'\n",
    ")\n",
    "\n",
    "print(\"S: \", env.observation_space)\n",
    "print(\"A: \", env.action_space)\n",
    "print(\"R: \", env.reward_range)\n",
    "\n",
    "O, info = env.reset()\n",
    "\n",
    "print(\"Observation: \", O)\n",
    "render(env)\n",
    "COLORS = [\"white\"] * 16\n",
    "COLORS[0] = \"green\"\n",
    "COLORS[15] = \"red\"\n",
    "COLORS[5] = COLORS[7] = COLORS[11] = COLORS[12] = \"gray\"\n",
    "\n",
    "visualize_table(range(16), \"State Space\", COLORS)"
   ]
  },
  {
   "cell_type": "markdown",
   "metadata": {},
   "source": [
    "As you can see this is a **finite** environment\n",
    "- State set ($S$) has 16 members (and 5 of them are **terminal** states)\n",
    "- Action set ($A$) has 4 members (left, down, right, up)\n",
    "- Reward set has ($R$) 2 members (1 for reaching the present and 0 for every other move)\n",
    "\n",
    "In this case the environment is a **fully observable** one (observation is equivalent to the state), *however keep in mind that agent doesn't see the board as we do (from the bird view) but only observes on which tile it currently is, if he received reward and if it is a terminal state. The rendering of the board is just for visualization purposes.*\n",
    "\n",
    "Let's see what happens when we take actions in the environment."
   ]
  },
  {
   "cell_type": "code",
   "execution_count": null,
   "metadata": {},
   "outputs": [],
   "source": [
    "LEFT = 0\n",
    "DOWN = 1\n",
    "RIGHT = 2\n",
    "UP = 3\n",
    "ARROWS = [\"←\", \"↓\", \"→\", \"↑\"]\n",
    "TERMINAL = set([5, 7, 11, 12, 15])\n",
    "NONTERMINAL = set(range(16)) - TERMINAL\n",
    "\n",
    "S1, R1, T1, _, I1 = env.step(RIGHT)\n",
    "print(\"Observation/State S1: \", S1)\n",
    "print(\"Reward R1: \", R1)\n",
    "print(\"Is terminal T1: \", T1)\n",
    "\n",
    "render(env)"
   ]
  },
  {
   "cell_type": "markdown",
   "metadata": {},
   "source": [
    "As you can see that after taking action $ A_0 = right $ we received the reward $ R_1 = 0 $ and the observation $S_1 = 1$. We also received the information that we are not in a terminal state yet and that this transition had probability of 1 (we are in a **deterministic** environment)."
   ]
  },
  {
   "cell_type": "code",
   "execution_count": null,
   "metadata": {},
   "outputs": [],
   "source": [
    "S2, R2, T2, _, I2 = env.step(RIGHT)\n",
    "print(\"Observation/State S2: \", S2)\n",
    "print(\"Reward R2: \", R2)\n",
    "print(\"Is terminal T2: \", T2)\n",
    "render(env)"
   ]
  },
  {
   "cell_type": "markdown",
   "metadata": {},
   "source": [
    "This time after taking action $ A_1 = down $ we received the reward $ R_2 = 0 $ and the observation $S_2 = 5$ but this time we found ourselves in a terminal state as we have fallen into the lake. \n",
    "\n",
    "This is the end of the **episode** with **trajectory** of $ S_0, A_0, R_1, S_1, A_1, R_2, S_2 = 0, right,0,1,down,0,5 $. \\\n",
    "The episode length is usually denoted as **T** and in this case $ T = 2 $ and $S_T = S_2$ is a terminal state. \n",
    "\n",
    "Consider another **trajectory**"
   ]
  },
  {
   "cell_type": "code",
   "execution_count": null,
   "metadata": {},
   "outputs": [],
   "source": [
    "env.reset()\n",
    "\n",
    "actions = [DOWN, DOWN, RIGHT, RIGHT, DOWN, RIGHT]\n",
    "\n",
    "for i, A in enumerate(actions):\n",
    "    O, R, T, _, _ = env.step(A)\n",
    "    print(f\"A{i}: \", A)\n",
    "    print(f\"S{i+1}: \", O)\n",
    "    print(f\"R{i+1}: \", R)\n",
    "    print(\"Is terminal: \", T)\n",
    "    render(env)"
   ]
  },
  {
   "cell_type": "markdown",
   "metadata": {},
   "source": [
    "Now we can observe that the agent reaches the goal in 6 steps ($T=6$ the terminal state is $S_6$), all the immediate rewards were equal to 0 except the last one $R_6 = 1$"
   ]
  },
  {
   "cell_type": "markdown",
   "metadata": {},
   "source": [
    "## Markov Decision Process (MDP)\n",
    "\n",
    "Mathematical formalization of such decision making process is called **Markov Decision Process (MDP)**. The environment is said to have the **Markov property** if the future state depends only on the current state and action, and not on the past **trajectory**. This is a very strong assumption and in practice it's often violated. It helps to simplify the problem as if we learn optimal policies for some states we can hope that it will not change in the future.\n",
    "\n",
    "MDPs can be entirelly defined by the following function: \\\n",
    "$p(s', r | s, a) = Pr(S_{t+1} = s', R_{t+1} = r | S_t = s, A_t = a)$ \\\n",
    "In other words - *the probability of transitioning to state $s'$ and receiving reward $r$ given that we are in state $s$ and took action $a$ should be defined for all state-action pairs.*\n",
    "\n",
    "The Frozen Lake environment was an example of a **deterministic** MDP, all probabilities were equal to 1 or 0. for example $p(1,0|0,right) = 1$ and $p(1,1|0,right) = 0$. However it is possible to enable **stochastic** transitions by setting the `is_slippery` parameter to `True` in the environment initialization. (Now there is only 1/3 chance that the agent will move in the direction it wanted and 2/3 that it will move into one of orthogonal directions)"
   ]
  },
  {
   "cell_type": "code",
   "execution_count": null,
   "metadata": {},
   "outputs": [],
   "source": [
    "senv = gym.make(        # Let senv stand for stochastic environment\n",
    "    'FrozenLake-v1',\n",
    "    map_name=\"4x4\", \n",
    "    is_slippery=True,\n",
    "    render_mode='rgb_array'\n",
    ")\n",
    "\n",
    "O, info = senv.reset(seed=1)\n",
    "\n",
    "render(senv)"
   ]
  },
  {
   "cell_type": "code",
   "execution_count": null,
   "metadata": {},
   "outputs": [],
   "source": [
    "def debug_step(env: gym.Env, A: int, t: int):\n",
    "    O, R, T, _, I = env.step(A)\n",
    "    print(f\"A{t}: {A}, S{t+1}: {O}, R{t+1}: {R}, Terminal: {T}\")\n",
    "    print(\"Info: \", I)\n",
    "    render(env)\n",
    "\n",
    "debug_step(senv, DOWN, t=0)"
   ]
  },
  {
   "cell_type": "markdown",
   "metadata": {},
   "source": [
    "As you can see we performed action $down$ but ended up in the state 1 as if we moved $right$ instead. \n",
    "$1/3$ lead to the desired state and $2/3$ lead to the orthogonal states, but we never slip into the opposite direction, this opens doors for interesting strategies, for example if we want to be sure to avoid the lake we can choose action $up$ to be sure we won't slip into it."
   ]
  },
  {
   "cell_type": "code",
   "execution_count": null,
   "metadata": {},
   "outputs": [],
   "source": [
    "debug_step(senv, UP, t=1)"
   ]
  },
  {
   "cell_type": "markdown",
   "metadata": {},
   "source": [
    "staying in $S=1$, going back to $S=0$ or going to state $S=2$ all had the same probability (1/3) after choosing action $up$ this time we got lucky and moved closer to the goal. Have we chosen action $right$ we would have 1/3 chance of slipping down to $S=5$ and loosing"
   ]
  },
  {
   "cell_type": "markdown",
   "metadata": {},
   "source": [
    "## Goals and Reward hypothesis\n",
    "When training RL agent we want it to acomplish some **goal**. The goal is usually some high level objective that is not directly encoded in the environment. For example in the Frozen Lake the goal/purpose is *to reach the goal without falling into the lake*.\n",
    "\n",
    "The **reward hypothesis** states that: \\\n",
    "*All of what we mean by goals and purposes can be well thought of as the maximization of the expected value of the cumulative sum of a received rewards*\n",
    "\n",
    "### Return - G\n",
    "The cumulative sum of rewards to be received after time step t is called **return** (denoted as: $G_t = R_{t+1} + R_{t+2} + \\ldots + R_T$). To achieve the high level goal we need to maximize the expected return. This way agent might perform actions that in the short term are not beneficial but in the long term lead to the highest return.\n",
    "\n",
    "*Notice that if you define the return of terminal state to 0 ($G_T = 0$) you can formulate the return recursively as: $G_t = R_{t+1} + G_{t+1}$*\n",
    "\n",
    "#### Discounted return\n",
    "In practice we often use **discounted return** where we multiply each reward by a factor $\\gamma^t$ where $\\gamma \\in [0,1]$ is called the discount factor. \n",
    "$G_t = R_{t+1} + \\gamma R_{t+2} + \\gamma^2 R_{t+3} + \\ldots + \\gamma^{T-t-1} R_T$\n",
    "This makes sense as we are less likely to predict rewards long in the future than the immediate ones. \\\n",
    "If $\\gamma = 0$ the agent will only care about the immediate reward ($G_t = R_{t+1}$) \\\n",
    "If $\\gamma = 1$ the agent will care about all future rewards equally (*the same as undiscounted case mentioned previously*).\n",
    "\n",
    "The discounted return can be formulated recursively as: $G_t = R_{t+1} + \\gamma G_{t+1}$"
   ]
  },
  {
   "cell_type": "markdown",
   "metadata": {},
   "source": [
    "### Exercise from the book\n",
    "Suppose = 0.5 and the following sequence of rewards is received $R_1 = 1$,\n",
    "$R_2 = 2$, $R_3 = 6$, $R_4 = 3$, and $R_5 = 2$, with $T = 5$. What are $G_0, G_1 , . . ., G_5$?\n",
    "\n",
    "*Hint: Work backwards*"
   ]
  },
  {
   "cell_type": "markdown",
   "metadata": {},
   "source": [
    "## Calculating returns"
   ]
  },
  {
   "cell_type": "code",
   "execution_count": null,
   "metadata": {},
   "outputs": [],
   "source": [
    "from matplotlib.animation import FuncAnimation\n",
    "from IPython import display\n",
    "from typing import List, Tuple, Protocol\n",
    "\n",
    "\n",
    "Trajectory = List[Tuple[float, int, int]]\n",
    "\n",
    "class Agent(Protocol):\n",
    "    def act(self, state: int) -> int:\n",
    "        pass\n",
    "\n",
    "\n",
    "def run_episode(env: gym.Env, agent: Agent, seed=None, visualize=True, starting_state: int=0, starting_action=None) -> Trajectory:\n",
    "    \"\"\"Run episode following some policy, allows for displacement. \"\"\"\n",
    "    env.reset(seed=seed)\n",
    "\n",
    "    # assert not starting_state in TERMINAL\n",
    "    S = env.unwrapped.s = starting_state\n",
    "\n",
    "    T = False\n",
    "    R = 0.0\n",
    "\n",
    "    frames = []\n",
    "    frames.append(env.render())\n",
    "\n",
    "    trajectory = []\n",
    "\n",
    "    if starting_action is not None:\n",
    "        trajectory.append((R, S, starting_action))\n",
    "        S, R, T, _, _ = env.step(starting_action)\n",
    "        frames.append(env.render())\n",
    "\n",
    "    while not T:\n",
    "        A = agent.act(S)\n",
    "        trajectory.append((R, S, A))\n",
    "        S, R, T, _, _ = env.step(A)\n",
    "        frames.append(env.render())\n",
    "    trajectory.append((R, S, None))\n",
    "\n",
    "    if visualize:\n",
    "        fig = plt.figure() \n",
    "\n",
    "        def animate(i):\n",
    "            plt.imshow(frames[i])\n",
    "            plt.axis('off')\n",
    "\n",
    "        ani = FuncAnimation(fig, animate, frames=len(frames), interval=300, blit=False)\n",
    "        video = ani.to_html5_video()\n",
    "        html = display.HTML(video)\n",
    "        display.display(html)\n",
    "        plt.close()\n",
    "\n",
    "    return trajectory"
   ]
  },
  {
   "cell_type": "code",
   "execution_count": null,
   "metadata": {},
   "outputs": [],
   "source": [
    "class HardCodedAgent(Agent):\n",
    "    def __init__(self, actions: List[int]):\n",
    "        self.actions = actions\n",
    "        self.t = 0\n",
    "    \n",
    "    def act(self, state: int) -> int:    # Hard coded agent doesn't care about the state\n",
    "        action = self.actions[self.t]\n",
    "        self.t += 1\n",
    "        return action\n",
    "\n",
    "agent = HardCodedAgent([RIGHT, RIGHT, DOWN, DOWN, LEFT, DOWN, RIGHT, RIGHT])\n",
    "trajectory = run_episode(env, agent, visualize=True)\n",
    "\n",
    "print(trajectory)"
   ]
  },
  {
   "cell_type": "markdown",
   "metadata": {},
   "source": [
    "Let's calculate how return would look like on each state of this episode. We will use multiple discount factors ($\\gamma$) to see how it affects the return. \n",
    "Notice that:\n",
    "- terminal state has always return of 0 as no more rewards can be received after it.\n",
    "- we can only evaluate the return of the states that were visited in the episode."
   ]
  },
  {
   "cell_type": "code",
   "execution_count": null,
   "metadata": {},
   "outputs": [],
   "source": [
    "def evaluate_trajectory(T: Trajectory, gammas=[0, 0.5, 0.9, 1]):\n",
    "    for gamma in gammas:\n",
    "        G_table = [None for _ in range(16)]\n",
    "        G = 0 # Terminal\n",
    "        for R, S, _ in reversed(T):\n",
    "            G_table[S] = G\n",
    "            G = R + gamma * G\n",
    "\n",
    "        G_table = [f\"{G:.2f}\" if G is not None else \"\" for G in G_table]\n",
    "        visualize_table(G_table, f\"Discounted Return (gamma={gamma})\", COLORS)\n",
    "\n",
    "evaluate_trajectory(trajectory)"
   ]
  },
  {
   "cell_type": "markdown",
   "metadata": {},
   "source": [
    "Let's consider a more optimal episode, where the agent reaches the goal in a shorter amount of steps, notice that on average returns will be higher than in the longer episode, which is another useful feature of **discounting**"
   ]
  },
  {
   "cell_type": "code",
   "execution_count": null,
   "metadata": {},
   "outputs": [],
   "source": [
    "agent = HardCodedAgent([DOWN, DOWN, RIGHT, RIGHT, DOWN, RIGHT])\n",
    "trajectory = run_episode(env, agent)\n",
    "evaluate_trajectory(trajectory, gammas=[0.5, 0.9])"
   ]
  },
  {
   "cell_type": "markdown",
   "metadata": {},
   "source": [
    "Let's consider episode that ends in agent falling into the lake, notice that we never get any reward in such episode so all returns are equal to 0!"
   ]
  },
  {
   "cell_type": "code",
   "execution_count": null,
   "metadata": {},
   "outputs": [],
   "source": [
    "agent = HardCodedAgent([DOWN, DOWN, RIGHT, UP])\n",
    "trajectory = run_episode(env, agent)\n",
    "evaluate_trajectory(trajectory)"
   ]
  },
  {
   "cell_type": "markdown",
   "metadata": {},
   "source": [
    "## Policy - $\\pi$\n",
    "Policy (denoted as $\\pi$) - is a way of acting of the agent when in certain states. It is a function that maps states to actions\n",
    "- In the deterministic case: $\\pi(s) = a$\n",
    "- In the stochastic case: $\\pi(a|s) = Pr(A_t = a | S_t = s)$.\n",
    "\n",
    "We denote the optimal policy as $\\pi^*$ and it is the policy that maximizes the expected return for all states. Finding of such a policy is the main goal of the reinforcement learning and solution of the MDP.\n",
    "\n",
    "For now let's define some policies by hand (later we will see how to learn policies from the environment)"
   ]
  },
  {
   "cell_type": "code",
   "execution_count": null,
   "metadata": {},
   "outputs": [],
   "source": [
    "policy = [\n",
    "    RIGHT, RIGHT, DOWN,  LEFT, \\\n",
    "    DOWN,  -1,    DOWN,  -1, \\\n",
    "    RIGHT, RIGHT, DOWN,  -1, \\\n",
    "    -1,    RIGHT, RIGHT, -1\n",
    "]\n",
    "\n",
    "def visualize_policy(policy, colors=COLORS, ax=None):\n",
    "    policy_viz = [ARROWS[A] if A != -1 and i not in TERMINAL else \"\" for i, A in enumerate(policy)]\n",
    "    visualize_table(policy_viz, \"Policy\", colors=colors, ax=ax)\n",
    "\n",
    "visualize_policy(policy)"
   ]
  },
  {
   "cell_type": "markdown",
   "metadata": {},
   "source": [
    "This way we defined a **deterministic** policy. We mapped every state to a specific action, so agent can just lookup the action in the table and take it.\n",
    "\n",
    "Let's test the policy in the environments starting from multiple different initial states."
   ]
  },
  {
   "cell_type": "code",
   "execution_count": null,
   "metadata": {},
   "outputs": [],
   "source": [
    "class DeterministicPolicy(Agent):\n",
    "    def __init__(self, policy):\n",
    "        self.policy = policy\n",
    "\n",
    "    def act(self, S):\n",
    "        return self.policy[S]"
   ]
  },
  {
   "cell_type": "code",
   "execution_count": null,
   "metadata": {},
   "outputs": [],
   "source": [
    "starting_positions = [0, 3, 8]\n",
    "\n",
    "agent = DeterministicPolicy(policy)\n",
    "\n",
    "for start in starting_positions:\n",
    "    run_episode(env, agent, visualize=True, starting_state=start)"
   ]
  },
  {
   "cell_type": "markdown",
   "metadata": {},
   "source": [
    "Now let's see how our policy performs in the stochastic environment (with `is_slippery=True`)"
   ]
  },
  {
   "cell_type": "code",
   "execution_count": null,
   "metadata": {},
   "outputs": [],
   "source": [
    "for seed in [0, 6, 9]:\n",
    "    run_episode(senv, agent, seed=seed)"
   ]
  },
  {
   "cell_type": "markdown",
   "metadata": {},
   "source": [
    "As you can see the policy which seemed to be optimal in the deterministic environment is definetly not optimal in the stochastic one."
   ]
  },
  {
   "cell_type": "markdown",
   "metadata": {},
   "source": [
    "## Policy evaluation\n",
    "\n",
    "### State-Value function\n",
    "\n",
    "For every policy $\\pi$ we can define a value function (denoted as $v_{\\pi}$) that maps states to expected returns.\n",
    "\n",
    "$ v_{\\pi}(s) = \\mathbb{E}_{\\pi}$[G_t | S_t = s]\n",
    "\n",
    "In other words: $v_{\\pi}(s)$ is expected discounted return when starting in s and following $\\pi$ thereafter. *(t can be any timestep)*\n",
    "Value function is a measure of how desirable it is to be in certain states.\n",
    "\n",
    "Although for some MDPs it is possible to exactly calculate v, in practice we usually estimate it. Estimation of the value function is denoted as $V_{\\pi}(s)$ (capital V)\n",
    "\n",
    "### Monte carlo method\n",
    "Let's try to approximate the value function for the policy we defined earlier. We will use the **Monte Carlo method**. It is a method of estimating the value function by averaging the returns that were observed after visiting the state, to achieve this we need to run multiple **sample episodes** and calculate the returns after the episode ends."
   ]
  },
  {
   "cell_type": "code",
   "execution_count": null,
   "metadata": {},
   "outputs": [],
   "source": [
    "\n",
    "def monte_carlo_V(env: gym.Env, agent: Agent, num_episodes: int=500, gamma: float=0.9, exploring_starts=False) -> tuple[list, list]:\n",
    "    \"\"\"Monte Carlo algorithm to estimate the value function, returns also the number of visits for each state.\"\"\"\n",
    "    V = [0.0 for _ in range(16)] # Set initial estimates to 0\n",
    "    N = [0 for _ in range(16)]   # Number of visits for each state\n",
    "    start = 0\n",
    "\n",
    "    for _ in range(num_episodes):\n",
    "        if exploring_starts:  # If set, start each episode from a random state\n",
    "            start = np.random.choice(list(NONTERMINAL))\n",
    "\n",
    "        trajectory = run_episode(env, agent, starting_state=start, visualize=False)\n",
    "        G = 0\n",
    "        for R, S, _ in reversed(trajectory):\n",
    "            N[S] += 1\n",
    "            V[S] += (G - V[S]) / N[S]\n",
    "            G = R + gamma * G\n",
    "\n",
    "    return V, N"
   ]
  },
  {
   "cell_type": "code",
   "execution_count": null,
   "metadata": {},
   "outputs": [],
   "source": [
    "V, N = monte_carlo_V(senv, agent, num_episodes=500)\n",
    "fig, ax = plt.subplots(1, 2, figsize=(10, 5))\n",
    "visualize_table([f\"{v:.3f}\" for v in V], \"Value function estimate - Vπ(s)\", COLORS, ax=ax[0])\n",
    "visualize_table([f\"{n}\" for n in N], \"Number of Visits - N(s)\", COLORS, ax=ax[1])"
   ]
  },
  {
   "cell_type": "markdown",
   "metadata": {},
   "source": [
    "We have evaluated values of each states, here are some observations:\n",
    "- observe that for every **terminal** state the value is equal to 0. This is because we can't receive any more rewards after reaching the terminal state.\n",
    "- Notice that sum of numbers of visits to terminal states is equal to the number of episodes we run (2000)\n",
    "- Number of visits to the initial state is higher than number of episodes due to slippery lake making agent return there sometimes.\n",
    "- Only a small portion of simulations ended in reaching the present, most of them ended in falling into the lake.\n",
    "- Going down in the beginning seems to be a safer option\n",
    "\n",
    "### Exploring starts\n",
    "We could obtain more accurate estimates by running simulations starting from random state and not only from the state 0 (called **exploring starts**)"
   ]
  },
  {
   "cell_type": "code",
   "execution_count": null,
   "metadata": {},
   "outputs": [],
   "source": [
    "V, N = monte_carlo_V(senv, agent, num_episodes=500, exploring_starts=True)\n",
    "fig, axs = plt.subplots(1, 2, figsize=(10, 5))\n",
    "visualize_table([f\"{v:.3f}\" for v in V], \"Value function estimate - Vπ(s)\", COLORS, ax=axs[0])\n",
    "visualize_table([f\"{n}\" for n in N], \"Number of Visits - N(s)\", COLORS, ax=axs[1])"
   ]
  },
  {
   "cell_type": "markdown",
   "metadata": {},
   "source": [
    "As you can see the approximation is more precise because we sample the states more evenly. (Keep in mind that many environments don't allow for **exploring starts** and we will have to find way to explore the environment from an initial state)"
   ]
  },
  {
   "cell_type": "code",
   "execution_count": null,
   "metadata": {},
   "outputs": [],
   "source": [
    "import random\n",
    "\n",
    "class RandomAgent(Agent):\n",
    "    def __init__(self, num_actions: int):\n",
    "        self.num_actions = num_actions\n",
    "\n",
    "    def act(self, S):\n",
    "        return random.randint(0, self.num_actions - 1)\n",
    "\n",
    "random_agent = RandomAgent(4)\n",
    "\n",
    "V, N = monte_carlo_V(env, random_agent, num_episodes=2000, exploring_starts=True)\n",
    "\n",
    "fig, axs = plt.subplots(1, 2, figsize=(10, 5))\n",
    "visualize_table([f\"{v:.3f}\" for v in V], \"Value function estimate - Vπ(s)\", COLORS, ax=axs[0])\n",
    "visualize_table([f\"{n}\" for n in N], \"Number of Visits - N(s)\", COLORS, ax=axs[1])"
   ]
  },
  {
   "cell_type": "markdown",
   "metadata": {},
   "source": [
    "So even though our policy was not optimal, it is still better than the random one.\n",
    "\n",
    "### State-Action-Value function\n",
    "Although the state-value function is useful, it is of *limited* use in the problems where we don't have the access to the environment **model** (i.e we don't know which actions lead to which states and rewards and with what probability) only after taking the action we know what the next state will be so we cannot use state-value function to choose the best action. (In games like chess and go we know all the rules and can choose the move that leads to the most valued state)\n",
    "\n",
    "This is where the state-action value function comes in. It is denoted as $q_{\\pi}(s,a) = \\mathbf{E}_{\\pi}[R_{t+1} + \\gamma G_{t+1} | S_t = s, A_t = a]$ and it is the expected return after taking action a in state s and then following policy $\\pi$. It is clear to see that it would be much more useful in the problems where we don't have the access to the environment model, in each state we will use the action with the highest value."
   ]
  },
  {
   "cell_type": "code",
   "execution_count": null,
   "metadata": {},
   "outputs": [],
   "source": [
    "def monte_carlo_Q(env: gym.Env, agent: Agent, num_episodes: int=500, gamma: float=0.9, exploring_starts=False, benchmark=False) -> tuple[list, list]:\n",
    "    \"\"\"Monte Carlo algorithm to estimate the state-action value function\"\"\"\n",
    "    Q = [[0.0 for _ in range(4)] for _ in range(env.observation_space.n)] # Set initial estimates to 0\n",
    "    N = [[0   for _ in range(4)] for _ in range(env.observation_space.n)] # Number of visits for each state, action pair\n",
    "\n",
    "    total_rewards = []  # used for benchmarking\n",
    "    for _ in range(num_episodes):\n",
    "        start = 0\n",
    "        action = None\n",
    "\n",
    "        if exploring_starts:\n",
    "            start = np.random.randint(env.observation_space.n)\n",
    "            action = np.random.randint(env.action_space.n)\n",
    "\n",
    "        trajectory = run_episode(env, agent, visualize=False, starting_state=start, starting_action=action)\n",
    "        G = 0\n",
    "        for R, S, A in reversed(trajectory):\n",
    "            if A is not None:\n",
    "                N[S][A] += 1       # Increase the number of visits for state-action pair\n",
    "                Q[S][A] += (G - Q[S][A]) / N[S][A]                 # Update the estimate\n",
    "            G = R + gamma * G\n",
    "\n",
    "        total_reward = sum([R for R, _, _ in trajectory])\n",
    "        total_rewards.append(total_reward)\n",
    "\n",
    "    if benchmark:\n",
    "        return Q, N, sum(total_rewards) / num_episodes\n",
    "    return Q, N"
   ]
  },
  {
   "cell_type": "markdown",
   "metadata": {},
   "source": [
    "Let's try to approximate the state-action value function for the random policy (agent that always takes random actions) - this way we will eventually explore all pairs. Let's run the simulation in **deterministic** environment first (non slippery lake)."
   ]
  },
  {
   "cell_type": "code",
   "execution_count": null,
   "metadata": {},
   "outputs": [],
   "source": [
    "Q, N  = monte_carlo_Q(env, random_agent, num_episodes=2000, exploring_starts=True)"
   ]
  },
  {
   "cell_type": "code",
   "execution_count": null,
   "metadata": {},
   "outputs": [],
   "source": [
    "import numpy as np\n",
    "\n",
    "def visualize_qtable(Q, ax, color_max=False, round_digits=0, title=\"QTable\"):\n",
    "    # _, ax = plt.subplots()\n",
    "    ax.set_axis_off()\n",
    "    tb = Table(ax=ax, bbox=[0, 0, 1, 1])\n",
    "\n",
    "    NSTATES = 16\n",
    "    NACTIONS = 4\n",
    "\n",
    "    width, height = 1.0 / (NACTIONS + 1), 1.0 / (NSTATES + 1)\n",
    "\n",
    "    for s in range(NSTATES):\n",
    "        tb.add_cell(s+1, 0, width, height, text=f\"S{s}\", loc=\"center\", facecolor=\"gray\")\n",
    "        argmax = np.argmax(Q[s])\n",
    "        for a in range(NACTIONS):\n",
    "            if s in TERMINAL:\n",
    "                tb.add_cell(s+1, a+1, width, height, text=\"\", loc=\"center\", facecolor=\"#ccc\")\n",
    "                continue\n",
    "            x = a\n",
    "            y = s\n",
    "            facecolor = \"white\"\n",
    "            if a == argmax and color_max:\n",
    "                facecolor = \"green\"\n",
    "            if round_digits:\n",
    "                text = f\"{Q[s][a]:.{round_digits}f}\"\n",
    "            else:\n",
    "                text = f\"{Q[s][a]}\"\n",
    "            tb.add_cell(y+1, x+1, width, height, text=text, loc=\"center\", facecolor=facecolor)\n",
    "\n",
    "    for a in range(NACTIONS):\n",
    "        tb.add_cell(0, a+1, width, height, text=ARROWS[a], loc=\"center\", facecolor=\"gray\")\n",
    "\n",
    "    ax.add_table(tb)\n",
    "    ax.set_title(title)\n",
    "\n",
    "fig, axs = plt.subplots(1, 4, figsize=(20, 5))  \n",
    "\n",
    "env.reset()\n",
    "render(env, axs[0])\n",
    "visualize_qtable(Q, axs[1], True, 4)\n",
    "visualize_qtable(N, axs[2], False, 0, \"Number of Visits\")\n",
    "\n",
    "policy = np.argmax(Q, axis=1)\n",
    "policy_arrows = [ARROWS[a] for a in policy]\n",
    "for s in TERMINAL: policy_arrows[s] = \"\"\n",
    "\n",
    "visualize_table(policy_arrows, \"New Policy (greedy with respect to Q)\", COLORS, ncols=4, nrows=4, ax=axs[3])"
   ]
  },
  {
   "cell_type": "markdown",
   "metadata": {},
   "source": [
    "As you can see the Q table is larger than V table. Q table will be much more useful as it stores more information useful for decision making (control problems).\n",
    "\n",
    "For the sake of theory let's show that it is easy to calculate the V function from Q function. \\\n",
    "$ v_{\\pi}(s) = \\sum_{a \\in \\mathit{A}} \\pi(a|s) q_{\\pi}(s,a)$\n",
    "\n",
    "We chose $\\pi$ to be an uniform policy so $\\pi(a|s) = \\frac 1 {|\\mathit{A}|}  = \\frac1 4$ for all actions in each state. \\\n",
    "So the equation simplifies to average of state-action values in each state (mean of each row):\n",
    "\n",
    "Let's see if this is really the case by checking if the V table approximated previously is the same as V calculated from averages in Q table:"
   ]
  },
  {
   "cell_type": "code",
   "execution_count": null,
   "metadata": {},
   "outputs": [],
   "source": [
    "fig, ax = plt.subplots(1, 2, figsize=(10, 5))\n",
    "visualize_table([f\"{s:.3f}\" for s in V], \"direct approx of V\", COLORS, ax=ax[0])\n",
    "\n",
    "Q_sums = np.mean(Q, axis=1)\n",
    "visualize_table([f\"{s:.3f}\" for s in Q_sums], \"V from approx of Q\", COLORS, ax=ax[1])"
   ]
  },
  {
   "cell_type": "markdown",
   "metadata": {},
   "source": [
    "It is indeed the case, the V table is similiar to the one we approximated previously (in the limit it would be exactly the same).\n",
    "\n",
    "Notice that we can also calculate the q function from the v function, but it requires the access to the environment model. \\\n",
    "$ q_{\\pi}(s,a) = \\sum_{s' \\in \\mathit{S}, r \\in \\mathit{R}} p(s',r|s,a) [r + \\gamma v_{\\pi}(s')]$ - where p models dynamics of the environment"
   ]
  },
  {
   "cell_type": "markdown",
   "metadata": {},
   "source": [
    "## Policy improvement\n",
    "We know how to evaluate the policy, the question is how can we improve it? We can do it by using the value function to choose the best action in each state. This way we can define a new policy that is **greedy** with respect to the **value** function. This way we can guarantee that the new policy will be at least as good as the old one.\n",
    "\n",
    "After calculating new value table for a better policy, all entries should be higher or equal than corresponding values in the old value table. This is called **policy improvement theorem**.\n",
    "\n",
    "Let's try to evaluate the improved policy (greedy with respect to the value function - see previous visualization) and see if it yields higher returns. (We are not using exploring starts here)"
   ]
  },
  {
   "cell_type": "code",
   "execution_count": null,
   "metadata": {},
   "outputs": [],
   "source": [
    "def evaluate_and_visualize(env, agent, num_episodes=1000, exploring_starts=False):\n",
    "    Q, NQ = monte_carlo_Q(env, agent, num_episodes=num_episodes, exploring_starts=exploring_starts)\n",
    "    V, N = monte_carlo_V(env, agent, num_episodes=num_episodes, exploring_starts=exploring_starts)\n",
    "\n",
    "    _, axs = plt.subplots(1, 4, figsize=(20, 5))\n",
    "\n",
    "    visualize_qtable(Q, axs[0], True, 4)\n",
    "    visualize_qtable(NQ, axs[1])\n",
    "    visualize_table([f\"{v:.3f}\" for v in V], \"Value function estimate - Vπ(s)\", COLORS, ax=axs[2])\n",
    "    visualize_table([f\"{n}\" for n in N], \"Number of Visits - N(s)\", COLORS, ax=axs[3])\n",
    "\n",
    "policy = np.argmax(Q, axis=1)\n",
    "new_agent = DeterministicPolicy(policy)\n",
    "evaluate_and_visualize(env, new_agent, num_episodes=500)"
   ]
  },
  {
   "cell_type": "markdown",
   "metadata": {},
   "source": [
    "Notice that the new policy is indeed better (in fact it is optimal) however we have a problem with evaluating it. The problem is that the greedy policy is fixed and unable to explore other states than the ones it already knows (it is **exploiting** the knowledge). This is called **exploitation-exploration dilemma**. We need to explore other states to be sure that the policy is indeed optimal. (what happens iw we are dropped in the upper right corner? Is the policy still optimal?)\n",
    "\n",
    "One solution would be to use **exploring starts**:"
   ]
  },
  {
   "cell_type": "code",
   "execution_count": null,
   "metadata": {},
   "outputs": [],
   "source": [
    "evaluate_and_visualize(env, new_agent, num_episodes=1000, exploring_starts=True)"
   ]
  },
  {
   "cell_type": "markdown",
   "metadata": {},
   "source": [
    "Indeed we can see that the value is approximated now for all states and state-action pairs. We also see that the policy is better than the random one.\n",
    "\n",
    "Another way would be to use **$\\epsilon$-greedy** policy, it is a way of action where with probability $\\epsilon$ we take a **random** action and with probability $1-\\epsilon$ we take the **greedy** action. This way we can **explore** other states and still **exploit** the knowledge we already have. \n",
    "\n",
    "*(see more in the bandits.ipynb notebook)*"
   ]
  },
  {
   "cell_type": "code",
   "execution_count": null,
   "metadata": {},
   "outputs": [],
   "source": [
    "class EpsilonGreedyAgent(Agent):\n",
    "    def __init__(self, policy, epsilon=0.1):\n",
    "        self.pi = policy\n",
    "        self.epsilon = epsilon\n",
    "\n",
    "    def act(self, S):\n",
    "        if random.random() < self.epsilon:\n",
    "            return (policy[S] + random.randint(1, 3)) % 4   # Random action different from the greedy one\n",
    "        return policy[S]\n",
    "\n",
    "egreedy_agent = EpsilonGreedyAgent(policy, epsilon=0.1)\n",
    "\n",
    "evaluate_and_visualize(env, egreedy_agent, num_episodes=2000)"
   ]
  },
  {
   "cell_type": "markdown",
   "metadata": {},
   "source": [
    "Having changed the policy from greedy to epsilon greedy we were able to evaluate every position, but of course the visits weren't as balanced in the idelized (**exploring starts**) case. "
   ]
  },
  {
   "cell_type": "markdown",
   "metadata": {},
   "source": [
    "### Generalized policy iteration (GPI)\n",
    "The process of iteratively evaluating and improving the policy is called **generalized policy iteration**. It is a general concept that can be used to solve MDPs. It is guaranteed to converge to the optimal policy if we perform both steps infinitely many times. Let's run the GPI algorithm on slippery FrozenLake environment.\n",
    "\n",
    "Similarily as before we will start with a random agent:"
   ]
  },
  {
   "cell_type": "code",
   "execution_count": null,
   "metadata": {},
   "outputs": [],
   "source": [
    "def policy_evaluation(env, agent, num_episodes, visualize=True):\n",
    "    Q, _, avg_total_reward = monte_carlo_Q(env, agent, num_episodes=num_episodes, exploring_starts=True, benchmark=True)\n",
    "\n",
    "    if visualize:\n",
    "        fig, ax = plt.subplots()\n",
    "        visualize_qtable(Q, ax, True, 4, \"Qπ(s, a)\")\n",
    "\n",
    "    return Q, avg_total_reward"
   ]
  },
  {
   "cell_type": "code",
   "execution_count": null,
   "metadata": {},
   "outputs": [],
   "source": [
    "Q0, TR0 = policy_evaluation(senv, random_agent, num_episodes=1000, visualize=True)"
   ]
  },
  {
   "cell_type": "markdown",
   "metadata": {},
   "source": [
    "Now let's improve the policy greedily with respect to the value function and evaluate it again:"
   ]
  },
  {
   "cell_type": "code",
   "execution_count": null,
   "metadata": {},
   "outputs": [],
   "source": [
    "policy1 = np.argmax(Q0, axis=1)\n",
    "agent1 = DeterministicPolicy(policy1)\n",
    "\n",
    "visualize_policy(policy)"
   ]
  },
  {
   "cell_type": "markdown",
   "metadata": {},
   "source": [
    "This is one iteration of GPI done, now let's do another one staring by evaluating the new policy:"
   ]
  },
  {
   "cell_type": "code",
   "execution_count": null,
   "metadata": {},
   "outputs": [],
   "source": [
    "Q1, TR1 = policy_evaluation(senv, agent1, num_episodes=1000, visualize=True)"
   ]
  },
  {
   "cell_type": "code",
   "execution_count": null,
   "metadata": {},
   "outputs": [],
   "source": [
    "policy2 = np.argmax(Q1, axis=1)\n",
    "agent2 = DeterministicPolicy(policy2)\n",
    "\n",
    "visualize_policy(policy2)"
   ]
  },
  {
   "cell_type": "code",
   "execution_count": null,
   "metadata": {},
   "outputs": [],
   "source": [
    "def benchmark_agent(env, agent, num_iters=500):\n",
    "    rewards = []\n",
    "    for _ in range(num_iters):\n",
    "        trajectory = run_episode(env, agent, visualize=False)\n",
    "        rewards.append(sum([R for R, _, _ in trajectory]))\n",
    "    return sum(rewards) / len(rewards)\n",
    "\n",
    "print(\"Random Agent: \", benchmark_agent(senv, random_agent))\n",
    "print(\"Policy Agent 1: \", benchmark_agent(senv, agent1))\n",
    "print(\"Policy Agent 2: \", benchmark_agent(senv, agent2))\n",
    "print(\"Policy Agent 3: \", benchmark_agent(senv, agent3))"
   ]
  },
  {
   "cell_type": "markdown",
   "metadata": {},
   "source": [
    "Let's implement the GPI algorithm and try to run it on a larger FrozenLake"
   ]
  },
  {
   "cell_type": "code",
   "execution_count": null,
   "metadata": {},
   "outputs": [],
   "source": [
    "def GPI(env, num_episodes, iterations=5):\n",
    "    agent = RandomAgent(4)\n",
    "\n",
    "    Vs = []\n",
    "    Ps = []\n",
    "\n",
    "    for i in range(iterations):\n",
    "        print(f\"{i} - iteration\")\n",
    "        print(\"\\tEvaluating policy\")\n",
    "        Q = policy_evaluation(env, agent, num_episodes, visualize=False)\n",
    "\n",
    "        V = np.mean(Q, axis=1)\n",
    "        Vs.append(V)\n",
    "\n",
    "        print(\"\\tImproving policy\")\n",
    "        policy = np.argmax(Q, axis=1)\n",
    "\n",
    "        Ps.append(policy)\n",
    "\n",
    "        agent = DeterministicPolicy(policy)\n",
    "\n",
    "    _, axs = plt.subplots(2, iterations, figsize=(5 * iterations, 5))\n",
    "    for i, v in enumerate(Vs):\n",
    "        visualize_table([f\"{s:.3f}\" for s in v], \"Vπ(s)\", ax=axs[0][i])\n",
    "        visualize_policy(Ps[i], ax=axs[1][i], colors=None)\n",
    "\n",
    "    return agent"
   ]
  },
  {
   "cell_type": "code",
   "execution_count": null,
   "metadata": {},
   "outputs": [],
   "source": [
    "big_env = gym.make(\n",
    "    'FrozenLake-v1',\n",
    "    map_name=\"8x8\", \n",
    "    is_slippery=True,\n",
    "    render_mode='rgb_array'\n",
    ")\n",
    "\n",
    "GPI(big_env, 100, iterations=3)"
   ]
  },
  {
   "cell_type": "markdown",
   "metadata": {},
   "source": [
    "## TODO:\n",
    "\n",
    "- Value\n",
    "- Bellman equation\n",
    "- Generalized policy iteration\n",
    "- Monte carlo vs Temporal difference"
   ]
  },
  {
   "cell_type": "markdown",
   "metadata": {},
   "source": [
    "Bibliography:\n",
    "- Reinforcement Learning An Introduction (2nd edition) - Richard Sutton and Andrew Barto\n",
    "- Gymnasium framework (https://gymnasium.farama.org/)"
   ]
  }
 ],
 "metadata": {
  "kernelspec": {
   "display_name": "venv",
   "language": "python",
   "name": "python3"
  },
  "language_info": {
   "codemirror_mode": {
    "name": "ipython",
    "version": 3
   },
   "file_extension": ".py",
   "mimetype": "text/x-python",
   "name": "python",
   "nbconvert_exporter": "python",
   "pygments_lexer": "ipython3",
   "version": "3.11.5"
  }
 },
 "nbformat": 4,
 "nbformat_minor": 2
}
