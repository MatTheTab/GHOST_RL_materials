{
 "cells": [
  {
   "cell_type": "code",
   "execution_count": null,
   "metadata": {},
   "outputs": [],
   "source": [
    "import numpy as np\n",
    "import pandas as pd\n",
    "import matplotlib.pyplot as plt\n",
    "\n",
    "K_ARMS = 10\n",
    "\n",
    "class Bandit:\n",
    "    \"\"\"Environment for the k-armed bandit problem\"\"\"\n",
    "\n",
    "    def __init__(self, k_arms=K_ARMS):\n",
    "        self.k = k_arms\n",
    "        self.reset()\n",
    "\n",
    "    def step(self, action):\n",
    "        if action < 0 or action >= self.k:\n",
    "            raise ValueError(\"Invalid action\")\n",
    "        return np.random.normal(self.q_star[action], 1)\n",
    "    \n",
    "    def reset(self):\n",
    "        self.q_star = np.random.normal(0, 1, self.k)"
   ]
  },
  {
   "cell_type": "code",
   "execution_count": null,
   "metadata": {},
   "outputs": [],
   "source": [
    "class EpsilonGreedyAgent:\n",
    "    \"\"\"Agent that chooses a random action with probability epsilon,\n",
    "       otherwise the action with the highest estimated value\"\"\"\n",
    "\n",
    "    def __init__(self, epsilon=0.1, k_arms=K_ARMS):\n",
    "        self.k = k_arms\n",
    "        self.epsilon = epsilon\n",
    "        self.reset()\n",
    "\n",
    "    def choose_action(self):\n",
    "        if np.random.random() < self.epsilon:\n",
    "            return np.random.randint(self.k)\n",
    "        return np.argmax(self.q_est)\n",
    "\n",
    "    def update(self, action, reward):\n",
    "        \"\"\"Increase the action count and update the estimated value for the chosen action\"\"\"\n",
    "        self.action_count[action] += 1\n",
    "        self.q_est[action] += (reward - self.q_est[action]) / self.action_count[action]\n",
    "    \n",
    "    def reset(self):\n",
    "        self.q_est = np.zeros(self.k) # estimated expected rewards for each lever\n",
    "        self.action_count = np.zeros(self.k) # number of times each lever has been pulled"
   ]
  },
  {
   "cell_type": "code",
   "execution_count": null,
   "metadata": {},
   "outputs": [],
   "source": [
    "def run_experiment(agent, env, runs=2000, steps=1000):\n",
    "    logs = []\n",
    "    for run in range(runs):\n",
    "        agent.reset()\n",
    "        env.reset()\n",
    "        for step in range(steps):\n",
    "            A = agent.choose_action()\n",
    "            R = env.step(A)\n",
    "            agent.update(A, R)\n",
    "            logs.append((run, step, R))\n",
    "    return logs\n",
    "\n",
    "def plot_results(results):\n",
    "    _ = plt.figure(figsize=(12, 5))\n",
    "    for eps in results:\n",
    "        df = pd.DataFrame(np.array(results[eps]), columns=[\"run\", \"step\", \"reward\"])\n",
    "        plt.plot(df[['step', 'reward']].groupby(\"step\").mean(), label=eps)\n",
    "        plt.legend()\n",
    "        plt.title(\"Average reward over time\")\n",
    "        plt.xlabel(\"Step\")\n",
    "        plt.ylabel(\"Average reward\")"
   ]
  },
  {
   "cell_type": "code",
   "execution_count": null,
   "metadata": {},
   "outputs": [],
   "source": [
    "RUNS = 2000\n",
    "STEPS = 2000\n",
    "EPSILONS = [0.0, 0.01, 0.1]\n",
    "results = {}\n",
    "env = Bandit()\n",
    "for eps in EPSILONS:\n",
    "    agent = EpsilonGreedyAgent(epsilon=eps)\n",
    "    results[eps] = run_experiment(agent, env, RUNS, STEPS)\n",
    "plot_results(results)"
   ]
  },
  {
   "cell_type": "code",
   "execution_count": null,
   "metadata": {},
   "outputs": [],
   "source": [
    "class NonstationaryBandit(Bandit):\n",
    "    \"\"\"Nonstationary k-armed bandit environment\"\"\"\n",
    "\n",
    "    def __init__(self, k_arms=K_ARMS, step_size=0.01):\n",
    "        super().__init__(k_arms)\n",
    "        self.step_size = step_size # random walk step size\n",
    "\n",
    "    def step(self, action):\n",
    "        reward = super().step(action)\n",
    "        self.q_star += np.random.normal(0, self.step_size, self.k)\n",
    "        return reward"
   ]
  },
  {
   "cell_type": "code",
   "execution_count": null,
   "metadata": {},
   "outputs": [],
   "source": [
    "class EpsilonGreedyAgentNonstationary(EpsilonGreedyAgent):\n",
    "    \"\"\"Agent that chooses a random action with probability epsilon,\n",
    "       otherwise the action with the highest estimated value\"\"\"\n",
    "\n",
    "    def __init__(self, epsilon=0.1, k_arms=K_ARMS, step_size=0.1):\n",
    "        super().__init__(epsilon, k_arms)\n",
    "        self.step_size = step_size\n",
    "\n",
    "    def update(self, action, reward):\n",
    "        \"\"\"Increase the action count and update the estimated value for the chosen action\"\"\"\n",
    "        self.action_count[action] += 1\n",
    "        self.q_est[action] += self.step_size * (reward - self.q_est[action])"
   ]
  },
  {
   "cell_type": "code",
   "execution_count": null,
   "metadata": {},
   "outputs": [],
   "source": [
    "RUNS = 2000\n",
    "STEPS = 2000\n",
    "EPSILONS = [0.0, 0.01, 0.1]\n",
    "results = {}\n",
    "env = NonstationaryBandit()\n",
    "for eps in EPSILONS:\n",
    "    agent = EpsilonGreedyAgentNonstationary(epsilon=eps)\n",
    "    results[eps] = run_experiment(agent, env, RUNS, STEPS)\n",
    "\n",
    "plot_results(results)"
   ]
  },
  {
   "cell_type": "code",
   "execution_count": null,
   "metadata": {},
   "outputs": [],
   "source": [
    "RUNS = 1000\n",
    "STEPS = 2000\n",
    "EPSILONS = [0.0, 0.01, 0.1]\n",
    "results = {}\n",
    "env = NonstationaryBandit()\n",
    "for eps in EPSILONS:\n",
    "    agent = EpsilonGreedyAgent(epsilon=eps)\n",
    "    results[eps] = run_experiment(agent, env, RUNS, STEPS)\n",
    "\n",
    "plot_results(results)"
   ]
  }
 ],
 "metadata": {
  "kernelspec": {
   "display_name": "ir",
   "language": "python",
   "name": "python3"
  },
  "language_info": {
   "codemirror_mode": {
    "name": "ipython",
    "version": 3
   },
   "file_extension": ".py",
   "mimetype": "text/x-python",
   "name": "python",
   "nbconvert_exporter": "python",
   "pygments_lexer": "ipython3",
   "version": "3.11.5"
  }
 },
 "nbformat": 4,
 "nbformat_minor": 2
}
